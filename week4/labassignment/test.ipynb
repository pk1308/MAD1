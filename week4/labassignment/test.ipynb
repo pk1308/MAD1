{
 "cells": [
  {
   "cell_type": "code",
   "execution_count": 4,
   "metadata": {},
   "outputs": [],
   "source": [
    "import csv \n",
    "data = csv.DictReader(\"data.csv\")"
   ]
  },
  {
   "cell_type": "code",
   "execution_count": 7,
   "metadata": {},
   "outputs": [],
   "source": [
    "data = csv.DictReader(\"data.csv\")"
   ]
  },
  {
   "cell_type": "code",
   "execution_count": 14,
   "metadata": {},
   "outputs": [],
   "source": [
    "import os "
   ]
  },
  {
   "cell_type": "code",
   "execution_count": null,
   "metadata": {},
   "outputs": [],
   "source": [
    "import csv\n",
    "\n",
    "def get_data(file_name=\"data.csv\"):\n",
    "    \"\"\"\n",
    "    Reads data from a CSV file and returns it as a dictionary.\n",
    "\n",
    "    Args:\n",
    "        file_name (str, optional): The filename of the CSV file. Defaults to \"data.csv\".\n",
    "\n",
    "    Returns:\n",
    "        dict: A dictionary containing student and course data lists, and a master list.\n",
    "\n",
    "    Raises:\n",
    "        FileNotFoundError: If the CSV file is not found.\n",
    "        ValueError: If there are errors converting data types.\n",
    "    \"\"\"\n",
    "\n",
    "    master_data = {\n",
    "        \"student_data_list\": [],\n",
    "        \"course_data_list\": [],\n",
    "        \"master_data_list\": [],\n",
    "    }\n",
    "\n",
    "    try:\n",
    "        # Construct the file path\n",
    "        file_path = os.path.join(os.getcwd(), file_name)\n",
    "\n",
    "        # Open the file in read mode\n",
    "        with open(file_path, \"r\") as file:\n",
    "            reader = csv.DictReader(file)\n",
    "\n",
    "            # Read the header row (assuming headers exist)\n",
    "            header = next(reader)\n",
    "            \n",
    "\n",
    "            # Process each row\n",
    "            for data_to_insert in reader:\n",
    "                print(data_to_insert)\n",
    "                try:\n",
    "                    # Convert data to appropriate types (handle potential errors)\n",
    "                    master_data[\"student_data_list\"].append(data_to_insert[\"Student id\"])\n",
    "                    master_data[\"course_data_list\"].append(data_to_insert[\"Course id\"])\n",
    "                    master_data[\"master_data_list\"].append(data_to_insert)\n",
    "                except ValueError:\n",
    "                    print(f\"Error converting data in row: {data_to_insert}\")\n",
    "\n",
    "    except FileNotFoundError as e:\n",
    "        print(f\"Error: File not found - {file_name}\")\n",
    "        raise  # Re-raise the exception to propagate the error\n",
    "\n",
    "    return master_data\n",
    "\n",
    "# Example usage\n",
    "data = get_data()\n",
    "print(data)\n"
   ]
  },
  {
   "cell_type": "code",
   "execution_count": 24,
   "metadata": {},
   "outputs": [
    {
     "data": {
      "text/plain": [
       "[{'Student id': 1001, 'Course id': 2001, 'Marks': 56},\n",
       " {'Student id': 1002, 'Course id': 2001, 'Marks': 67},\n",
       " {'Student id': 1003, 'Course id': 2001, 'Marks': 78},\n",
       " {'Student id': 1004, 'Course id': 2001, 'Marks': 90},\n",
       " {'Student id': 1005, 'Course id': 2001, 'Marks': 45},\n",
       " {'Student id': 1001, 'Course id': 2002, 'Marks': 58},\n",
       " {'Student id': 1002, 'Course id': 2002, 'Marks': 98},\n",
       " {'Student id': 1009, 'Course id': 2002, 'Marks': 12},\n",
       " {'Student id': 1007, 'Course id': 2002, 'Marks': 99},\n",
       " {'Student id': 1008, 'Course id': 2002, 'Marks': 39},\n",
       " {'Student id': 1003, 'Course id': 2003, 'Marks': 34},\n",
       " {'Student id': 1004, 'Course id': 2003, 'Marks': 43},\n",
       " {'Student id': 1000, 'Course id': 2003, 'Marks': 25},\n",
       " {'Student id': 1060, 'Course id': 2003, 'Marks': 60},\n",
       " {'Student id': 1090, 'Course id': 2003, 'Marks': 88},\n",
       " {'Student id': 1005, 'Course id': 2004, 'Marks': 81},\n",
       " {'Student id': 1080, 'Course id': 2004, 'Marks': 59},\n",
       " {'Student id': 1030, 'Course id': 2004, 'Marks': 87},\n",
       " {'Student id': 1001, 'Course id': 2004, 'Marks': 35},\n",
       " {'Student id': 1090, 'Course id': 2004, 'Marks': 33}]"
      ]
     },
     "execution_count": 24,
     "metadata": {},
     "output_type": "execute_result"
    }
   ],
   "source": [
    "get_data()"
   ]
  },
  {
   "cell_type": "code",
   "execution_count": 30,
   "metadata": {},
   "outputs": [],
   "source": [
    "def get_data(file_name = \"data.csv\"):\n",
    "        try:\n",
    "            master_data= {\n",
    "            \"student_data_list\" : [] , \n",
    "            \"course_data_list\" : [], \n",
    "            \"master_data_list\" : [] }\n",
    "            \n",
    "            \n",
    "            file_path = os.path.join(os.getcwd(), file_name)\n",
    "            with open(file_path, \"r\") as file:\n",
    "                reader = csv.reader(file)\n",
    "                header = [j.strip() for j in next(reader)]\n",
    "                for row in  reader:\n",
    "                    data_to_insert= []\n",
    "                    data_to_insert ={key : int(value) for key , value in zip(header, row)}\n",
    "                    master_data[\"student_data_list\"].append(data_to_insert[\"Student id\"])\n",
    "                    master_data[\"course_data_list\"].append(data_to_insert[\"Course id\"])\n",
    "                    master_data[\"master_data_list\"].append(data_to_insert)\n",
    "        except Exception as e :\n",
    "            print(e)\n",
    "    \n",
    "        return master_data"
   ]
  },
  {
   "cell_type": "code",
   "execution_count": 31,
   "metadata": {},
   "outputs": [
    {
     "data": {
      "text/plain": [
       "{'student_data_list': [1001,\n",
       "  1002,\n",
       "  1003,\n",
       "  1004,\n",
       "  1005,\n",
       "  1001,\n",
       "  1002,\n",
       "  1009,\n",
       "  1007,\n",
       "  1008,\n",
       "  1003,\n",
       "  1004,\n",
       "  1000,\n",
       "  1060,\n",
       "  1090,\n",
       "  1005,\n",
       "  1080,\n",
       "  1030,\n",
       "  1001,\n",
       "  1090],\n",
       " 'course_data_list': [2001,\n",
       "  2001,\n",
       "  2001,\n",
       "  2001,\n",
       "  2001,\n",
       "  2002,\n",
       "  2002,\n",
       "  2002,\n",
       "  2002,\n",
       "  2002,\n",
       "  2003,\n",
       "  2003,\n",
       "  2003,\n",
       "  2003,\n",
       "  2003,\n",
       "  2004,\n",
       "  2004,\n",
       "  2004,\n",
       "  2004,\n",
       "  2004],\n",
       " 'master_data_list': [{'Student id': 1001, 'Course id': 2001, 'Marks': 56},\n",
       "  {'Student id': 1002, 'Course id': 2001, 'Marks': 67},\n",
       "  {'Student id': 1003, 'Course id': 2001, 'Marks': 78},\n",
       "  {'Student id': 1004, 'Course id': 2001, 'Marks': 90},\n",
       "  {'Student id': 1005, 'Course id': 2001, 'Marks': 45},\n",
       "  {'Student id': 1001, 'Course id': 2002, 'Marks': 58},\n",
       "  {'Student id': 1002, 'Course id': 2002, 'Marks': 98},\n",
       "  {'Student id': 1009, 'Course id': 2002, 'Marks': 12},\n",
       "  {'Student id': 1007, 'Course id': 2002, 'Marks': 99},\n",
       "  {'Student id': 1008, 'Course id': 2002, 'Marks': 39},\n",
       "  {'Student id': 1003, 'Course id': 2003, 'Marks': 34},\n",
       "  {'Student id': 1004, 'Course id': 2003, 'Marks': 43},\n",
       "  {'Student id': 1000, 'Course id': 2003, 'Marks': 25},\n",
       "  {'Student id': 1060, 'Course id': 2003, 'Marks': 60},\n",
       "  {'Student id': 1090, 'Course id': 2003, 'Marks': 88},\n",
       "  {'Student id': 1005, 'Course id': 2004, 'Marks': 81},\n",
       "  {'Student id': 1080, 'Course id': 2004, 'Marks': 59},\n",
       "  {'Student id': 1030, 'Course id': 2004, 'Marks': 87},\n",
       "  {'Student id': 1001, 'Course id': 2004, 'Marks': 35},\n",
       "  {'Student id': 1090, 'Course id': 2004, 'Marks': 33}]}"
      ]
     },
     "execution_count": 31,
     "metadata": {},
     "output_type": "execute_result"
    }
   ],
   "source": [
    "get_data()"
   ]
  },
  {
   "cell_type": "code",
   "execution_count": 2,
   "metadata": {},
   "outputs": [
    {
     "name": "stdout",
     "output_type": "stream",
     "text": [
      " $John and John are Civil and $Civil engineer respectively.\n",
      " Sujoy and John are Civil and Mechanical engineer respectively.\n"
     ]
    }
   ],
   "source": [
    "from jinja2 import Template as T1\n",
    "from string import Template as T2\n",
    "\n",
    "info = {'det1': 'Civil', 'Name': 'John', 'Civil': 'Mechanical', 'John': 'Sujoy'}\n",
    "\n",
    "t1 = T1(\" ${{Name}} and {{Name}} are {{det1}} and ${{det1}} engineer respectively.\")\n",
    "\n",
    "out1 = t1.render(info)\n",
    "print(out1)\n",
    "out2 = T2(out1)\n",
    "print(out2.substitute(info))\n"
   ]
  },
  {
   "cell_type": "code",
   "execution_count": null,
   "metadata": {},
   "outputs": [],
   "source": [
    "from string import Template\n",
    "statement = \"$g http method is used to retrieve information while $pfor sending information\"\n",
    "out Template(statement)\n",
    "=\n",
    "print(=== OUTPUT ===)\n",
    "Which of the following statements, when substituted in place of === OUTPUT ===, will\n",
    "throw a KeyError?\n",
    "Options:\n",
    "out.substitute({'g': 'GET'})\n",
    "6406532239863."
   ]
  }
 ],
 "metadata": {
  "kernelspec": {
   "display_name": "dbms",
   "language": "python",
   "name": "python3"
  },
  "language_info": {
   "codemirror_mode": {
    "name": "ipython",
    "version": 3
   },
   "file_extension": ".py",
   "mimetype": "text/x-python",
   "name": "python",
   "nbconvert_exporter": "python",
   "pygments_lexer": "ipython3",
   "version": "3.12.3"
  }
 },
 "nbformat": 4,
 "nbformat_minor": 2
}
