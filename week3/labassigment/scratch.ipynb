{
 "cells": [
  {
   "cell_type": "code",
   "execution_count": 2,
   "metadata": {},
   "outputs": [],
   "source": [
    "import csv\n",
    "import os "
   ]
  },
  {
   "cell_type": "code",
   "execution_count": 3,
   "metadata": {},
   "outputs": [],
   "source": [
    "file_path = os.path.join(os.getcwd() , \"data.csv\")"
   ]
  },
  {
   "cell_type": "code",
   "execution_count": 9,
   "metadata": {},
   "outputs": [],
   "source": [
    "with open(file_path, 'r') as file:\n",
    "    reader = csv.reader(file) \n",
    "    data = next(reader)\n",
    "    data_1 = next(reader)"
   ]
  },
  {
   "cell_type": "code",
   "execution_count": 8,
   "metadata": {},
   "outputs": [
    {
     "data": {
      "text/plain": [
       "['Student id', ' Course id', ' Marks']"
      ]
     },
     "execution_count": 8,
     "metadata": {},
     "output_type": "execute_result"
    }
   ],
   "source": [
    "data"
   ]
  },
  {
   "cell_type": "code",
   "execution_count": 10,
   "metadata": {},
   "outputs": [
    {
     "data": {
      "text/plain": [
       "['1001', ' 2001', ' 56']"
      ]
     },
     "execution_count": 10,
     "metadata": {},
     "output_type": "execute_result"
    }
   ],
   "source": [
    "data_1"
   ]
  },
  {
   "cell_type": "code",
   "execution_count": 27,
   "metadata": {},
   "outputs": [],
   "source": [
    "def get_data( student_id = None  , course_id = None):\n",
    "        student_data = []\n",
    "        course_data = {}\n",
    "        file_path = os.path.join(os.getcwd() , \"data.csv\")\n",
    "        with open(file_path, 'r') as file:\n",
    "            reader = csv.reader(file)\n",
    "            header = [j.strip() for j in next(reader)]  \n",
    "            if student_id is not None:\n",
    "                for row in reader:\n",
    "                    print(row)\n",
    "                    if int(row[0]) == int(student_id):\n",
    "                        student_data.append(dict(zip(header, [int(i) for i in row])) )\n",
    "                return student_data\n",
    "            elif student_id is None:\n",
    "                data = []\n",
    "                for row in reader:\n",
    "                    if int(row[1]) == int(course_id):\n",
    "                        data.append(int(row[2]))\n",
    "                course_data[\"average_marks\"] =  sum(data) / len(data)\n",
    "                course_data[\"max\"] = max(data)\n",
    "                course_data[\"data\"] = data\n",
    "\n",
    "                return course_data\n",
    "            else:\n",
    "                pass "
   ]
  },
  {
   "cell_type": "code",
   "execution_count": 16,
   "metadata": {},
   "outputs": [
    {
     "name": "stdout",
     "output_type": "stream",
     "text": [
      "['1001', ' 2001', ' 56']\n",
      "['1002', ' 2001', ' 67']\n",
      "['1003', ' 2001', ' 78']\n",
      "['1004', ' 2001', ' 90']\n",
      "['1005', ' 2001', ' 45']\n",
      "['1001', ' 2002', ' 58']\n",
      "['1002', ' 2002', ' 98']\n",
      "['1009', ' 2002', ' 12']\n",
      "['1007', ' 2002', ' 99']\n",
      "['1008', ' 2002', ' 39']\n",
      "['1003', ' 2003', ' 34']\n",
      "['1004', ' 2003', ' 43']\n",
      "['1000', ' 2003', ' 25']\n",
      "['1060', ' 2003', ' 60']\n",
      "['1090', ' 2003', ' 88']\n",
      "['1005', ' 2004', ' 81']\n",
      "['1080', ' 2004', ' 59']\n",
      "['1030', ' 2004', ' 87']\n",
      "['1001', ' 2004', ' 35']\n",
      "['1090', ' 2004', ' 33']\n"
     ]
    }
   ],
   "source": [
    "s = get_data(student_id=1003)"
   ]
  },
  {
   "cell_type": "code",
   "execution_count": 23,
   "metadata": {},
   "outputs": [
    {
     "data": {
      "text/plain": [
       "[78, 34]"
      ]
     },
     "execution_count": 23,
     "metadata": {},
     "output_type": "execute_result"
    }
   ],
   "source": [
    "[d.get(\"Marks\") for d in s ]"
   ]
  },
  {
   "cell_type": "code",
   "execution_count": 29,
   "metadata": {},
   "outputs": [],
   "source": [
    "s = get_data(course_id=2001)"
   ]
  },
  {
   "cell_type": "code",
   "execution_count": 30,
   "metadata": {},
   "outputs": [
    {
     "data": {
      "text/plain": [
       "{'average_marks': 67.2, 'max': 90, 'data': [56, 67, 78, 90, 45]}"
      ]
     },
     "execution_count": 30,
     "metadata": {},
     "output_type": "execute_result"
    }
   ],
   "source": [
    "s"
   ]
  },
  {
   "cell_type": "code",
   "execution_count": 31,
   "metadata": {},
   "outputs": [],
   "source": [
    "import matplotlib.pyplot as plt "
   ]
  },
  {
   "cell_type": "code",
   "execution_count": 35,
   "metadata": {},
   "outputs": [
    {
     "data": {
      "image/png": "[encoded data removed]",
      "text/plain": [
       "<Figure size 640x480 with 1 Axes>"
      ]
     },
     "metadata": {},
     "output_type": "display_data"
    }
   ],
   "source": [
    "plt.hist(s['data'])\n",
    "plt.xlabel(\"Marks\")\n",
    "plt.ylabel(\"Frequency\")\n",
    "plt.title(\"Histogram of Marks\")\n",
    "file_path = os.path.join(os.getcwd(), \"plot.png\")\n",
    "plt.savefig(file_path)\n",
    "plt.close()\n",
    "return file_path"
   ]
  },
  {
   "cell_type": "code",
   "execution_count": null,
   "metadata": {},
   "outputs": [],
   "source": []
  }
 ],
 "metadata": {
  "kernelspec": {
   "display_name": "mad1",
   "language": "python",
   "name": "python3"
  },
  "language_info": {
   "codemirror_mode": {
    "name": "ipython",
    "version": 3
   },
   "file_extension": ".py",
   "mimetype": "text/x-python",
   "name": "python",
   "nbconvert_exporter": "python",
   "pygments_lexer": "ipython3",
   "version": "3.12.3"
  }
 },
 "nbformat": 4,
 "nbformat_minor": 2
}
