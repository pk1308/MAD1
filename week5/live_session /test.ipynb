{
 "cells": [
  {
   "cell_type": "code",
   "execution_count": 1,
   "metadata": {},
   "outputs": [
    {
     "name": "stdout",
     "output_type": "stream",
     "text": [
      "I am a decorator\n",
      "I am an ordinary function\n"
     ]
    }
   ],
   "source": [
    "def func(x):\n",
    "    def func1():\n",
    "        print(\"I am a decorator\")\n",
    "        x()\n",
    "    return func1\n",
    "@func\n",
    "def func2():\n",
    "    print(\"I am an ordinary function\")\n",
    "func2()"
   ]
  },
  {
   "cell_type": "code",
   "execution_count": 2,
   "metadata": {},
   "outputs": [
    {
     "name": "stdout",
     "output_type": "stream",
     "text": [
      "Hey There!\n"
     ]
    }
   ],
   "source": [
    "def func1(func):\n",
    "    def wrapper_func(a, b):\n",
    "        print(\"Hey There!\")\n",
    "        if b==0:\n",
    "            print(\"Hello!\")\n",
    "            return   \n",
    "    return  wrapper_func\n",
    "@func1\n",
    "def f2(a, b):\n",
    "    return a%b\n",
    "f2(2,5)"
   ]
  },
  {
   "cell_type": "code",
   "execution_count": 3,
   "metadata": {},
   "outputs": [
    {
     "name": "stdout",
     "output_type": "stream",
     "text": [
      "Hello There\n",
      "Hello There\n",
      "Hello There\n"
     ]
    }
   ],
   "source": [
    "def double(func):  \n",
    "    def wrapper():  \n",
    "        func()  \n",
    "        func()  \n",
    "        func()\n",
    "    return wrapper    \n",
    "@double\n",
    "def f1():  \n",
    "    print(\"Hello There\")  \n",
    "f1()  "
   ]
  },
  {
   "cell_type": "code",
   "execution_count": 14,
   "metadata": {},
   "outputs": [],
   "source": [
    "def decor(func1):\n",
    "  def inner():\n",
    "    s=func1()\n",
    "    return s.upper()\n",
    "  return inner  \n",
    " \n",
    "def decor1(func2):\n",
    "  def wrapper():\n",
    "    s=func2()\n",
    "    return s.split()\n",
    "  return wrapper  \n",
    "  \n",
    "def decor2(func3):\n",
    "  def wrapper1():\n",
    "    s=func3()\n",
    "    return s.lower()\n",
    "  return wrapper1\n",
    "   \n",
    "@decor1\n",
    "@decor\n",
    "@decor2\n",
    "def print_s():\n",
    " return \"hello world!\""
   ]
  },
  {
   "cell_type": "code",
   "execution_count": 15,
   "metadata": {},
   "outputs": [
    {
     "name": "stdout",
     "output_type": "stream",
     "text": [
      "['HELLO', 'WORLD!']\n"
     ]
    }
   ],
   "source": [
    "print(print_s())"
   ]
  },
  {
   "cell_type": "code",
   "execution_count": null,
   "metadata": {},
   "outputs": [],
   "source": []
  }
 ],
 "metadata": {
  "kernelspec": {
   "display_name": "dbms",
   "language": "python",
   "name": "python3"
  },
  "language_info": {
   "codemirror_mode": {
    "name": "ipython",
    "version": 3
   },
   "file_extension": ".py",
   "mimetype": "text/x-python",
   "name": "python",
   "nbconvert_exporter": "python",
   "pygments_lexer": "ipython3",
   "version": "3.12.3"
  }
 },
 "nbformat": 4,
 "nbformat_minor": 2
}
