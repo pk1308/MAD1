{
 "cells": [
  {
   "cell_type": "code",
   "execution_count": 4,
   "metadata": {},
   "outputs": [
    {
     "name": "stdout",
     "output_type": "stream",
     "text": [
      "Today is Monday and tomorrow is $tomorrow. \n"
     ]
    }
   ],
   "source": [
    "from string import Template\n",
    "my_statement = Template(\"Today is $today and tomorrow is $tomorrow. \")\n",
    "out = my_statement.safe_substitute(today = \"Monday\")\n",
    "print (out)"
   ]
  },
  {
   "cell_type": "code",
   "execution_count": 6,
   "metadata": {},
   "outputs": [],
   "source": [
    "!pip install pyhtml -q"
   ]
  },
  {
   "cell_type": "code",
   "execution_count": 7,
   "metadata": {},
   "outputs": [],
   "source": [
    "import pyhtml as ph\n",
    "file = ph.html(ph.body(ph.div(\"This is div.\"),\n",
    "ph.span(\"This is span.\")))"
   ]
  },
  {
   "cell_type": "code",
   "execution_count": 8,
   "metadata": {},
   "outputs": [
    {
     "data": {
      "text/plain": [
       "'<!DOCTYPE html>\\n<html>\\n  <body>\\n    <div>\\n      This is div.\\n    </div>\\n    <span>\\n      This is span.\\n    </span>\\n  </body>\\n</html>'"
      ]
     },
     "execution_count": 8,
     "metadata": {},
     "output_type": "execute_result"
    }
   ],
   "source": [
    "file.render()"
   ]
  },
  {
   "cell_type": "code",
   "execution_count": 11,
   "metadata": {},
   "outputs": [
    {
     "name": "stdout",
     "output_type": "stream",
     "text": [
      "IIT Madras provides diploma in programming \n",
      "IIT Madras provides degree in data science\n"
     ]
    }
   ],
   "source": [
    "from jinja2 import Template\n",
    "statement1 = Template(\"IIT Madras provides diploma in {{Value_1}} {{Value_2}}\")\n",
    "statement2 = Template(\"IIT Madras provides degree in {{Value_1}}{{Value_2}}\")\n",
    "out1 = statement1.render(Value_1=\"programming\")\n",
    "out2 = statement2.render(Value_2 = \"data science\")\n",
    "print(out1)\n",
    "print(out2)\n"
   ]
  },
  {
   "cell_type": "code",
   "execution_count": 17,
   "metadata": {},
   "outputs": [
    {
     "name": "stdout",
     "output_type": "stream",
     "text": [
      "3\n"
     ]
    }
   ],
   "source": [
    "class Student:\n",
    "    idnext=0\n",
    "    def __init__(self, name):\n",
    "        self.name=name\n",
    "        self.idnext=Student.idnext\n",
    "        Student.idnext=Student.idnext+1\n",
    "s1=Student(\"Rohan\")\n",
    "s2=Student(\"Karthik\")\n",
    "s3=Student(\"Saurav\")\n",
    "print(Student.idnext)"
   ]
  },
  {
   "cell_type": "code",
   "execution_count": 18,
   "metadata": {},
   "outputs": [
    {
     "data": {
      "text/plain": [
       "0"
      ]
     },
     "execution_count": 18,
     "metadata": {},
     "output_type": "execute_result"
    }
   ],
   "source": [
    "s1.idnext"
   ]
  },
  {
   "cell_type": "code",
   "execution_count": 19,
   "metadata": {},
   "outputs": [
    {
     "data": {
      "text/plain": [
       "1"
      ]
     },
     "execution_count": 19,
     "metadata": {},
     "output_type": "execute_result"
    }
   ],
   "source": [
    "s2.idnext"
   ]
  },
  {
   "cell_type": "code",
   "execution_count": 20,
   "metadata": {},
   "outputs": [
    {
     "data": {
      "text/plain": [
       "3"
      ]
     },
     "execution_count": 20,
     "metadata": {},
     "output_type": "execute_result"
    }
   ],
   "source": [
    "Student.idnext"
   ]
  },
  {
   "cell_type": "code",
   "execution_count": null,
   "metadata": {},
   "outputs": [],
   "source": []
  }
 ],
 "metadata": {
  "kernelspec": {
   "display_name": "iitm",
   "language": "python",
   "name": "python3"
  },
  "language_info": {
   "codemirror_mode": {
    "name": "ipython",
    "version": 3
   },
   "file_extension": ".py",
   "mimetype": "text/x-python",
   "name": "python",
   "nbconvert_exporter": "python",
   "pygments_lexer": "ipython3",
   "version": "3.11.0"
  }
 },
 "nbformat": 4,
 "nbformat_minor": 2
}
